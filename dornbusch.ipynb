{
 "cells": [
  {
   "cell_type": "markdown",
   "metadata": {},
   "source": [
    "# 1. Imports"
   ]
  },
  {
   "cell_type": "code",
   "execution_count": null,
   "metadata": {},
   "outputs": [],
   "source": [
    "import dornbusch as db"
   ]
  },
  {
   "cell_type": "markdown",
   "metadata": {},
   "source": [
    "# 2. Model"
   ]
  },
  {
   "cell_type": "markdown",
   "metadata": {},
   "source": [
    "#### Consider the Dornbusch model from the lecture slides. "
   ]
  },
  {
   "cell_type": "markdown",
   "metadata": {},
   "source": [
    "The money market:\n",
    "\\begin{align}\n",
    "    m_t - p_t &= \\eta y_t - \\sigma r_t\n",
    "\\end{align}\n",
    "\n",
    "The international bond market where expectations are regressive:\n",
    "\\begin{align}\n",
    "    \\mathbb{E}_t(\\dot{s}) &= r_t - r^* \\\\\n",
    "    \\mathbb{E}_t(\\dot{s}) &= \\theta(\\bar{s} - s_t)\n",
    "\\end{align}\n",
    "\n",
    "\n",
    "The domestic goods market and the Phillips curve:\n",
    "\\begin{align}\n",
    "    d_t &= \\beta + \\alpha(s_t + p^* - p_t) + \\phi y_t - \\lambda r_t \\\\\n",
    "    \\dot{p} &= \\pi (d_t - y_t)\n",
    "\\end{align}"
   ]
  },
  {
   "cell_type": "markdown",
   "metadata": {},
   "source": [
    "# 3. Simulation"
   ]
  },
  {
   "cell_type": "markdown",
   "metadata": {},
   "source": [
    "The simulation is a one-time increase in the money supply in the $5^{th}$ period. I used the following parameter values:"
   ]
  },
  {
   "cell_type": "markdown",
   "metadata": {},
   "source": [
    "\\begin{align}\n",
    "\\eta = 0.8 \\quad &\\text{income elasticity of demand for money} \\\\\n",
    "\\sigma = 0.8 \\quad &\\text{interest rate semielasticity of demand for money} \\\\\n",
    "\\beta = 0.0 \\quad &\\text{shift parameter} \\\\\n",
    "\\alpha = 1.0 \\quad &\\text{responsiveness of domestic goods demand to changes in RER} \\\\\n",
    "\\phi = 0.5 \\quad &\\text{income elasticity of demand for domestic goods} \\\\\n",
    "\\lambda = 0.0 \\quad &\\text{interest rate semielasticity of demand for domestic goods} \\\\\n",
    "p^* = 0.0 \\quad &\\text{foreign price level} \\\\\n",
    "y = 1 \\quad &\\text{real income/output} \\\\\n",
    "r^* = 0.05 \\quad &\\text{foreign interest rate} \\\\\n",
    "\\end{align}"
   ]
  },
  {
   "cell_type": "markdown",
   "metadata": {},
   "source": [
    "The time horizon is set to 100. Furthermore, it is possible to manually change the degree of price flexibility, $\\pi$. Recall from the lecture slides that if $\\pi \\rightarrow \\infty$, the graph would jump from the initial to the final equilibrium. Observe what happens if you change the value for $\\pi$. The maximum value of $\\pi$ in this simulation is 5; in theory, this value could be larger."
   ]
  },
  {
   "cell_type": "code",
   "execution_count": null,
   "metadata": {},
   "outputs": [],
   "source": [
    "db.simulate()"
   ]
  }
 ],
 "metadata": {
  "kernelspec": {
   "display_name": "Python 3",
   "language": "python",
   "name": "python3"
  },
  "language_info": {
   "codemirror_mode": {
    "name": "ipython",
    "version": 3
   },
   "file_extension": ".py",
   "mimetype": "text/x-python",
   "name": "python",
   "nbconvert_exporter": "python",
   "pygments_lexer": "ipython3",
   "version": "3.7.3"
  }
 },
 "nbformat": 4,
 "nbformat_minor": 4
}
