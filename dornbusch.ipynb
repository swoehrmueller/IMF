{
 "cells": [
  {
   "cell_type": "markdown",
   "metadata": {},
   "source": [
    "# 1. Imports"
   ]
  },
  {
   "cell_type": "code",
   "execution_count": 2,
   "metadata": {},
   "outputs": [],
   "source": [
    "import dornbusch as db"
   ]
  },
  {
   "cell_type": "markdown",
   "metadata": {},
   "source": [
    "# 2. Model"
   ]
  },
  {
   "cell_type": "markdown",
   "metadata": {},
   "source": [
    "#### Consider the Dornbusch model from the lecture slides. "
   ]
  },
  {
   "cell_type": "markdown",
   "metadata": {},
   "source": [
    "The money market equilibrium:\n",
    "\\begin{align}\n",
    "    m - p_t &= \\eta y - \\sigma r_t\n",
    "\\end{align}\n",
    "\n",
    "The international bond market equilibrium where expectations are regressive:\n",
    "\\begin{align}\n",
    "    \\mathbb{E}_t(s_{t+1}) - s_t &= r_t - r^* \\\\\n",
    "    \\mathbb{E}_t(s_{t+1}) - s_t &= \\theta(\\bar{s} - s_t)\n",
    "\\end{align}\n",
    "\n",
    "\n",
    "The domestic goods market and the Phillips curve:\n",
    "\\begin{align}\n",
    "    d_t = \\beta + \\alpha(s_t \\ + \\ &p^* - p_t) + \\phi y - \\lambda r_t \\\\\n",
    "    p_{t+1} - p_t &= \\pi (d_t - y)\n",
    "\\end{align}\n",
    "\n",
    "Finally, the long-run equilibrium condition for the goods market is\n",
    "\\begin{align}\n",
    "    d_{LR} = y\n",
    "\\end{align}"
   ]
  },
  {
   "cell_type": "markdown",
   "metadata": {},
   "source": [
    "# 3. Simulation"
   ]
  },
  {
   "cell_type": "markdown",
   "metadata": {},
   "source": [
    "The simulation is a one-time increase in the money supply in the $5^{th}$ period. I used the following parameter values:"
   ]
  },
  {
   "cell_type": "markdown",
   "metadata": {},
   "source": [
    "\\begin{align}\n",
    "\\eta = 0.8 \\quad &\\text{income elasticity of demand for money} \\\\\n",
    "\\sigma = 0.8 \\quad &\\text{interest rate semielasticity of demand for money} \\\\\n",
    "\\beta = 0.0 \\quad &\\text{shift parameter} \\\\\n",
    "\\alpha = 1.0 \\quad &\\text{responsiveness of domestic goods demand to the real exchange rate} \\\\\n",
    "\\phi = 0.5 \\quad &\\text{income elasticity of demand for domestic goods} \\\\\n",
    "\\lambda = 0.0 \\quad &\\text{interest rate semielasticity of demand for domestic goods} \\\\\n",
    "p^* = 0.0 \\quad &\\text{foreign price level} \\\\\n",
    "y = 1 \\quad &\\text{real income/output} \\\\\n",
    "r^* = 0.05 \\quad &\\text{foreign interest rate} \\\\\n",
    "\\end{align}"
   ]
  },
  {
   "cell_type": "markdown",
   "metadata": {},
   "source": [
    "The time horizon is set to 100. Furthermore, it is possible to manually change the degree of price flexibility, $\\pi$. Recall from the lecture slides that if $\\pi \\rightarrow \\infty$, the graph would jump from the initial to the final equilibrium. Below I use the following transformation to cover the whole range from 0 until $\\infty$:\n",
    "\\begin{align}\n",
    "    \\pi = \\frac{\\tilde{\\pi}}{1 - \\tilde{\\pi}} \n",
    "\\end{align}\n",
    "That is, when $\\tilde{\\pi} \\rightarrow 1$, then $\\pi \\rightarrow \\infty$. "
   ]
  },
  {
   "cell_type": "code",
   "execution_count": 3,
   "metadata": {},
   "outputs": [
    {
     "data": {
      "application/vnd.jupyter.widget-view+json": {
       "model_id": "0f5192140b63445189bd4dac9b8df2f2",
       "version_major": 2,
       "version_minor": 0
      },
      "text/plain": [
       "interactive(children=(FloatSlider(value=0.2, description='$\\\\pi$', max=5.0, min=0.01), Output()), _dom_classes…"
      ]
     },
     "metadata": {},
     "output_type": "display_data"
    }
   ],
   "source": [
    "db.simulate()"
   ]
  }
 ],
 "metadata": {
  "kernelspec": {
   "display_name": "Python 3",
   "language": "python",
   "name": "python3"
  },
  "language_info": {
   "codemirror_mode": {
    "name": "ipython",
    "version": 3
   },
   "file_extension": ".py",
   "mimetype": "text/x-python",
   "name": "python",
   "nbconvert_exporter": "python",
   "pygments_lexer": "ipython3",
   "version": "3.7.3"
  }
 },
 "nbformat": 4,
 "nbformat_minor": 4
}
